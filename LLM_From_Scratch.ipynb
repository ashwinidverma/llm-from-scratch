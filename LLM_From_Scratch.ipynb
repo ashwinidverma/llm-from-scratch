{
  "nbformat": 4,
  "nbformat_minor": 0,
  "metadata": {
    "colab": {
      "provenance": [],
      "authorship_tag": "ABX9TyPy/8JlwwqMI0mtWd37RoAn",
      "include_colab_link": true
    },
    "kernelspec": {
      "name": "python3",
      "display_name": "Python 3"
    },
    "language_info": {
      "name": "python"
    }
  },
  "cells": [
    {
      "cell_type": "markdown",
      "metadata": {
        "id": "view-in-github",
        "colab_type": "text"
      },
      "source": [
        "<a href=\"https://colab.research.google.com/github/ashwinidverma/llm-from-scratch/blob/main/LLM_From_Scratch.ipynb\" target=\"_parent\"><img src=\"https://colab.research.google.com/assets/colab-badge.svg\" alt=\"Open In Colab\"/></a>"
      ]
    },
    {
      "cell_type": "markdown",
      "source": [
        "#Tokenization : character, word and subword"
      ],
      "metadata": {
        "id": "b_NcJe5OOjFw"
      }
    },
    {
      "cell_type": "code",
      "source": [],
      "metadata": {
        "id": "L0JazxhCfqYk"
      },
      "execution_count": null,
      "outputs": []
    },
    {
      "cell_type": "code",
      "source": [
        "import re\n",
        "\n",
        "text = \"Hello, world.  This is a test.\"\n",
        "result =  re.split(r'([,.]|\\s)',text)\n",
        "print(result)\n",
        "result = [item for item in result if item.strip()]\n",
        "result"
      ],
      "metadata": {
        "colab": {
          "base_uri": "https://localhost:8080/"
        },
        "id": "7kWGb3lbOd5K",
        "outputId": "0428ffd6-cc03-4fec-e5fd-8f2c13d9df36"
      },
      "execution_count": 2,
      "outputs": [
        {
          "output_type": "stream",
          "name": "stdout",
          "text": [
            "['Hello', ',', '', ' ', 'world', '.', '', ' ', '', ' ', 'This', ' ', 'is', ' ', 'a', ' ', 'test', '.', '']\n"
          ]
        },
        {
          "output_type": "execute_result",
          "data": {
            "text/plain": [
              "['Hello', ',', 'world', '.', 'This', 'is', 'a', 'test', '.']"
            ]
          },
          "metadata": {},
          "execution_count": 2
        }
      ]
    },
    {
      "cell_type": "code",
      "source": [],
      "metadata": {
        "id": "flNXw8xJD93J"
      },
      "execution_count": 2,
      "outputs": []
    },
    {
      "cell_type": "code",
      "source": [
        "with open(\"/content/the-verdict.txt\",'r',encoding='utf-8') as f:\n",
        "  raw_text = f.read()\n",
        "print(\"total no of character:\", len(raw_text))\n"
      ],
      "metadata": {
        "id": "8itkOoOHarJf",
        "outputId": "ee20e152-fa7e-4279-c81e-b0b70f070993",
        "colab": {
          "base_uri": "https://localhost:8080/"
        }
      },
      "execution_count": 3,
      "outputs": [
        {
          "output_type": "stream",
          "name": "stdout",
          "text": [
            "total no of character: 20479\n"
          ]
        }
      ]
    },
    {
      "cell_type": "code",
      "source": [],
      "metadata": {
        "id": "qUQ-p-250cLk"
      },
      "execution_count": 3,
      "outputs": []
    },
    {
      "cell_type": "code",
      "source": [
        "preprocessed = re.split(r'([,.:;?_!\"()\\']|--|\\s)', raw_text)\n",
        "preprocessed = [item.strip() for item in preprocessed if item.strip()]\n",
        "print(preprocessed[:30])"
      ],
      "metadata": {
        "colab": {
          "base_uri": "https://localhost:8080/"
        },
        "id": "omPezIbsgvOY",
        "outputId": "41b4bb26-925a-41af-d30b-0340a97c4c7c"
      },
      "execution_count": 4,
      "outputs": [
        {
          "output_type": "stream",
          "name": "stdout",
          "text": [
            "['I', 'HAD', 'always', 'thought', 'Jack', 'Gisburn', 'rather', 'a', 'cheap', 'genius', '--', 'though', 'a', 'good', 'fellow', 'enough', '--', 'so', 'it', 'was', 'no', 'great', 'surprise', 'to', 'me', 'to', 'hear', 'that', ',', 'in']\n"
          ]
        }
      ]
    },
    {
      "cell_type": "code",
      "source": [
        "print(len(preprocessed))"
      ],
      "metadata": {
        "colab": {
          "base_uri": "https://localhost:8080/"
        },
        "id": "EXYJ8c53hZGS",
        "outputId": "2d1662ce-632d-43e7-e5a2-8e41db45c29e"
      },
      "execution_count": 8,
      "outputs": [
        {
          "output_type": "stream",
          "name": "stdout",
          "text": [
            "4690\n"
          ]
        }
      ]
    },
    {
      "cell_type": "markdown",
      "source": [
        "# Token IDs"
      ],
      "metadata": {
        "id": "79Po-okNvlpU"
      }
    },
    {
      "cell_type": "code",
      "source": [],
      "metadata": {
        "id": "_bCy7kLBvUGt"
      },
      "execution_count": 5,
      "outputs": []
    },
    {
      "cell_type": "code",
      "source": [],
      "metadata": {
        "id": "Cl7mkIjNvkWk"
      },
      "execution_count": 5,
      "outputs": []
    },
    {
      "cell_type": "markdown",
      "source": [],
      "metadata": {
        "id": "KDx9Jg7dvtrc"
      }
    },
    {
      "cell_type": "code",
      "source": [
        "all_words = sorted(set(preprocessed))\n",
        "vocab_size= len(all_words)\n",
        "#\n",
        "print(vocab_size)"
      ],
      "metadata": {
        "colab": {
          "base_uri": "https://localhost:8080/"
        },
        "id": "n_FG6UEnhluC",
        "outputId": "bdf09cf9-5173-48c7-8fc9-73227345e543"
      },
      "execution_count": 9,
      "outputs": [
        {
          "output_type": "stream",
          "name": "stdout",
          "text": [
            "1130\n"
          ]
        }
      ]
    },
    {
      "cell_type": "code",
      "source": [
        "vocab = {token:integer for integer,token in enumerate(all_words)}"
      ],
      "metadata": {
        "id": "4fxHANjLhzqQ"
      },
      "execution_count": 10,
      "outputs": []
    },
    {
      "cell_type": "code",
      "source": [
        "vocab.items()\n",
        "for i, item in enumerate(vocab.items()):\n",
        "  print(item)\n",
        "  if i >10:\n",
        "    break"
      ],
      "metadata": {
        "colab": {
          "base_uri": "https://localhost:8080/"
        },
        "id": "epzIxe6fm5Fv",
        "outputId": "d33e0470-7d5b-4f15-ec7e-a67b602f967f"
      },
      "execution_count": 11,
      "outputs": [
        {
          "output_type": "stream",
          "name": "stdout",
          "text": [
            "('!', 0)\n",
            "('\"', 1)\n",
            "(\"'\", 2)\n",
            "('(', 3)\n",
            "(')', 4)\n",
            "(',', 5)\n",
            "('--', 6)\n",
            "('.', 7)\n",
            "(':', 8)\n",
            "(';', 9)\n",
            "('?', 10)\n",
            "('A', 11)\n"
          ]
        }
      ]
    },
    {
      "cell_type": "code",
      "source": [],
      "metadata": {
        "id": "m4Y6v3nCnRIG"
      },
      "execution_count": 11,
      "outputs": []
    },
    {
      "cell_type": "code",
      "source": [
        "class SimpleTokenizerV1:\n",
        "  def __init__(self,vocab):\n",
        "    self.str_to_int = vocab\n",
        "    self.int_to_str = {i:s for s,i in vocab.items()}\n",
        "\n",
        "  def encode(self, text):\n",
        "    preprocessed = re.split(r'([,.:;?_!\"()\\']|--|\\s)',text)\n",
        "    preprocessed = [item.strip() for item in preprocessed if item.strip()]\n",
        "    ids = [self.str_to_int[s] for s in preprocessed]\n",
        "    return ids\n",
        "\n",
        "  def decode(self, ids):\n",
        "    text = \" \".join([self.int_to_str[i] for i in ids])\n",
        "      #replace space before the specified punctuations\n",
        "    text = re.sub(r'\\s+([,.?!\"()\\'])', r'\\1', text)\n",
        "    return text"
      ],
      "metadata": {
        "id": "XtablrL6wz7E"
      },
      "execution_count": 12,
      "outputs": []
    },
    {
      "cell_type": "code",
      "source": [
        "tokenizer = SimpleTokenizerV1(vocab)\n",
        "text =\"\"\"\"It's the last he painted, you know,\" Mrs. Gisburn said with pardonable pride.\"\"\"\n",
        "ids = tokenizer.encode(text)\n",
        "print(ids)"
      ],
      "metadata": {
        "id": "YYPD9Dhk18uP",
        "colab": {
          "base_uri": "https://localhost:8080/"
        },
        "outputId": "49e016e6-722c-407a-fb56-c9815d0519db"
      },
      "execution_count": 13,
      "outputs": [
        {
          "output_type": "stream",
          "name": "stdout",
          "text": [
            "[1, 56, 2, 850, 988, 602, 533, 746, 5, 1126, 596, 5, 1, 67, 7, 38, 851, 1108, 754, 793, 7]\n"
          ]
        }
      ]
    },
    {
      "cell_type": "code",
      "source": [
        "tokenizer.decode(ids)"
      ],
      "metadata": {
        "colab": {
          "base_uri": "https://localhost:8080/",
          "height": 35
        },
        "id": "epUXToB0pd2J",
        "outputId": "ed091432-9c44-4407-c6e6-fc22c637e13f"
      },
      "execution_count": 14,
      "outputs": [
        {
          "output_type": "execute_result",
          "data": {
            "text/plain": [
              "'\" It\\' s the last he painted, you know,\" Mrs. Gisburn said with pardonable pride.'"
            ],
            "application/vnd.google.colaboratory.intrinsic+json": {
              "type": "string"
            }
          },
          "metadata": {},
          "execution_count": 14
        }
      ]
    },
    {
      "cell_type": "code",
      "source": [
        "text= \"Hello, do you like tea?\"\n",
        "print(tokenizer.encode(text))"
      ],
      "metadata": {
        "colab": {
          "base_uri": "https://localhost:8080/",
          "height": 304
        },
        "id": "uFjw6pZDpppA",
        "outputId": "fa479396-ee09-446c-874b-c614a4cefec5"
      },
      "execution_count": 15,
      "outputs": [
        {
          "output_type": "error",
          "ename": "KeyError",
          "evalue": "'Hello'",
          "traceback": [
            "\u001b[0;31m---------------------------------------------------------------------------\u001b[0m",
            "\u001b[0;31mKeyError\u001b[0m                                  Traceback (most recent call last)",
            "\u001b[0;32m<ipython-input-15-b9e5d20ea0d5>\u001b[0m in \u001b[0;36m<cell line: 0>\u001b[0;34m()\u001b[0m\n\u001b[1;32m      1\u001b[0m \u001b[0mtext\u001b[0m\u001b[0;34m=\u001b[0m \u001b[0;34m\"Hello, do you like tea?\"\u001b[0m\u001b[0;34m\u001b[0m\u001b[0;34m\u001b[0m\u001b[0m\n\u001b[0;32m----> 2\u001b[0;31m \u001b[0mprint\u001b[0m\u001b[0;34m(\u001b[0m\u001b[0mtokenizer\u001b[0m\u001b[0;34m.\u001b[0m\u001b[0mencode\u001b[0m\u001b[0;34m(\u001b[0m\u001b[0mtext\u001b[0m\u001b[0;34m)\u001b[0m\u001b[0;34m)\u001b[0m\u001b[0;34m\u001b[0m\u001b[0;34m\u001b[0m\u001b[0m\n\u001b[0m",
            "\u001b[0;32m<ipython-input-12-f732aeb553a5>\u001b[0m in \u001b[0;36mencode\u001b[0;34m(self, text)\u001b[0m\n\u001b[1;32m      7\u001b[0m     \u001b[0mpreprocessed\u001b[0m \u001b[0;34m=\u001b[0m \u001b[0mre\u001b[0m\u001b[0;34m.\u001b[0m\u001b[0msplit\u001b[0m\u001b[0;34m(\u001b[0m\u001b[0;34mr'([,.:;?_!\"()\\']|--|\\s)'\u001b[0m\u001b[0;34m,\u001b[0m\u001b[0mtext\u001b[0m\u001b[0;34m)\u001b[0m\u001b[0;34m\u001b[0m\u001b[0;34m\u001b[0m\u001b[0m\n\u001b[1;32m      8\u001b[0m     \u001b[0mpreprocessed\u001b[0m \u001b[0;34m=\u001b[0m \u001b[0;34m[\u001b[0m\u001b[0mitem\u001b[0m\u001b[0;34m.\u001b[0m\u001b[0mstrip\u001b[0m\u001b[0;34m(\u001b[0m\u001b[0;34m)\u001b[0m \u001b[0;32mfor\u001b[0m \u001b[0mitem\u001b[0m \u001b[0;32min\u001b[0m \u001b[0mpreprocessed\u001b[0m \u001b[0;32mif\u001b[0m \u001b[0mitem\u001b[0m\u001b[0;34m.\u001b[0m\u001b[0mstrip\u001b[0m\u001b[0;34m(\u001b[0m\u001b[0;34m)\u001b[0m\u001b[0;34m]\u001b[0m\u001b[0;34m\u001b[0m\u001b[0;34m\u001b[0m\u001b[0m\n\u001b[0;32m----> 9\u001b[0;31m     \u001b[0mids\u001b[0m \u001b[0;34m=\u001b[0m \u001b[0;34m[\u001b[0m\u001b[0mself\u001b[0m\u001b[0;34m.\u001b[0m\u001b[0mstr_to_int\u001b[0m\u001b[0;34m[\u001b[0m\u001b[0ms\u001b[0m\u001b[0;34m]\u001b[0m \u001b[0;32mfor\u001b[0m \u001b[0ms\u001b[0m \u001b[0;32min\u001b[0m \u001b[0mpreprocessed\u001b[0m\u001b[0;34m]\u001b[0m\u001b[0;34m\u001b[0m\u001b[0;34m\u001b[0m\u001b[0m\n\u001b[0m\u001b[1;32m     10\u001b[0m     \u001b[0;32mreturn\u001b[0m \u001b[0mids\u001b[0m\u001b[0;34m\u001b[0m\u001b[0;34m\u001b[0m\u001b[0m\n\u001b[1;32m     11\u001b[0m \u001b[0;34m\u001b[0m\u001b[0m\n",
            "\u001b[0;32m<ipython-input-12-f732aeb553a5>\u001b[0m in \u001b[0;36m<listcomp>\u001b[0;34m(.0)\u001b[0m\n\u001b[1;32m      7\u001b[0m     \u001b[0mpreprocessed\u001b[0m \u001b[0;34m=\u001b[0m \u001b[0mre\u001b[0m\u001b[0;34m.\u001b[0m\u001b[0msplit\u001b[0m\u001b[0;34m(\u001b[0m\u001b[0;34mr'([,.:;?_!\"()\\']|--|\\s)'\u001b[0m\u001b[0;34m,\u001b[0m\u001b[0mtext\u001b[0m\u001b[0;34m)\u001b[0m\u001b[0;34m\u001b[0m\u001b[0;34m\u001b[0m\u001b[0m\n\u001b[1;32m      8\u001b[0m     \u001b[0mpreprocessed\u001b[0m \u001b[0;34m=\u001b[0m \u001b[0;34m[\u001b[0m\u001b[0mitem\u001b[0m\u001b[0;34m.\u001b[0m\u001b[0mstrip\u001b[0m\u001b[0;34m(\u001b[0m\u001b[0;34m)\u001b[0m \u001b[0;32mfor\u001b[0m \u001b[0mitem\u001b[0m \u001b[0;32min\u001b[0m \u001b[0mpreprocessed\u001b[0m \u001b[0;32mif\u001b[0m \u001b[0mitem\u001b[0m\u001b[0;34m.\u001b[0m\u001b[0mstrip\u001b[0m\u001b[0;34m(\u001b[0m\u001b[0;34m)\u001b[0m\u001b[0;34m]\u001b[0m\u001b[0;34m\u001b[0m\u001b[0;34m\u001b[0m\u001b[0m\n\u001b[0;32m----> 9\u001b[0;31m     \u001b[0mids\u001b[0m \u001b[0;34m=\u001b[0m \u001b[0;34m[\u001b[0m\u001b[0mself\u001b[0m\u001b[0;34m.\u001b[0m\u001b[0mstr_to_int\u001b[0m\u001b[0;34m[\u001b[0m\u001b[0ms\u001b[0m\u001b[0;34m]\u001b[0m \u001b[0;32mfor\u001b[0m \u001b[0ms\u001b[0m \u001b[0;32min\u001b[0m \u001b[0mpreprocessed\u001b[0m\u001b[0;34m]\u001b[0m\u001b[0;34m\u001b[0m\u001b[0;34m\u001b[0m\u001b[0m\n\u001b[0m\u001b[1;32m     10\u001b[0m     \u001b[0;32mreturn\u001b[0m \u001b[0mids\u001b[0m\u001b[0;34m\u001b[0m\u001b[0;34m\u001b[0m\u001b[0m\n\u001b[1;32m     11\u001b[0m \u001b[0;34m\u001b[0m\u001b[0m\n",
            "\u001b[0;31mKeyError\u001b[0m: 'Hello'"
          ]
        }
      ]
    },
    {
      "cell_type": "markdown",
      "source": [
        "Special context tokens: To handal unknow tokens |unk| -> 783 (to assin ids for unknown tokens);\n",
        "|endoftext| -> 784 (present at the end or begning of the text collected from different sources)"
      ],
      "metadata": {
        "id": "RLqYIuVDs2ZK"
      }
    },
    {
      "cell_type": "code",
      "source": [
        "all_tokens = sorted(list(set(preprocessed)))\n",
        "all_tokens.extend([\"<|endoftext|>\", \"<|unk|>\"])\n",
        "vocab = {token:integer for integer,token in enumerate(all_tokens)}\n"
      ],
      "metadata": {
        "id": "9otFJ4fbttcV"
      },
      "execution_count": 16,
      "outputs": []
    },
    {
      "cell_type": "code",
      "source": [
        " len(vocab.items())"
      ],
      "metadata": {
        "colab": {
          "base_uri": "https://localhost:8080/"
        },
        "id": "LOvVgqq5tJSN",
        "outputId": "1aa1e2ed-246f-4ff4-d505-1b10ecca449d"
      },
      "execution_count": 17,
      "outputs": [
        {
          "output_type": "execute_result",
          "data": {
            "text/plain": [
              "1132"
            ]
          },
          "metadata": {},
          "execution_count": 17
        }
      ]
    },
    {
      "cell_type": "code",
      "source": [],
      "metadata": {
        "id": "Lu-aiCg7w49W"
      },
      "execution_count": 17,
      "outputs": []
    },
    {
      "cell_type": "code",
      "source": [
        "for i, item in enumerate(list(vocab.items())[-5:]):\n",
        "  print(item)"
      ],
      "metadata": {
        "colab": {
          "base_uri": "https://localhost:8080/"
        },
        "id": "fHNVniCKv9Nb",
        "outputId": "168eafae-7daa-4059-e259-c8b78207105b"
      },
      "execution_count": 18,
      "outputs": [
        {
          "output_type": "stream",
          "name": "stdout",
          "text": [
            "('younger', 1127)\n",
            "('your', 1128)\n",
            "('yourself', 1129)\n",
            "('<|endoftext|>', 1130)\n",
            "('<|unk|>', 1131)\n"
          ]
        }
      ]
    },
    {
      "cell_type": "code",
      "source": [
        "class SimpleTokenizerV2:\n",
        "  def __init__(self,vocab):\n",
        "    self.str_to_int = vocab\n",
        "    self.int_tostr = {i:s for s,i in vocab.items()}\n",
        "  def encode(self,text):\n",
        "    preprocessed = re.split(r'([,.:;?_!\"()\\']|--|\\s)',text)\n",
        "    preprocessed = [item.strip() for item in preprocessed if item.strip()]\n",
        "    preprocessed = [ item if item in self.str_to_int else \"<|unk|>\" for item in preprocessed]\n",
        "    ids = [self.str_to_int[s] for s in preprocessed]\n",
        "    return ids\n",
        "  def decode(self,ids):\n",
        "    text = \" \".join([self.int_tostr[i] for i in ids])\n",
        "    text = re.sub(r'\\s+([,.:;?!\"()\\'])', r'\\1',text)\n",
        "    return text\n"
      ],
      "metadata": {
        "id": "gsf9JwJmwl9k"
      },
      "execution_count": 19,
      "outputs": []
    },
    {
      "cell_type": "code",
      "source": [
        "tokenizer=SimpleTokenizerV2(vocab)\n",
        "text1= \"Hello, do you like tea?\"\n",
        "text2=\"In the sunlit terraces of the palace.\"\n",
        "text = \" <|endoftext|> \".join((text1,text2))\n",
        "print(text)\n"
      ],
      "metadata": {
        "colab": {
          "base_uri": "https://localhost:8080/"
        },
        "id": "Ihw0zvXaz-_0",
        "outputId": "53dc1057-965d-4635-92cc-48de8a8a888e"
      },
      "execution_count": 20,
      "outputs": [
        {
          "output_type": "stream",
          "name": "stdout",
          "text": [
            "Hello, do you like tea? <|endoftext|> In the sunlit terraces of the palace.\n"
          ]
        }
      ]
    },
    {
      "cell_type": "code",
      "source": [
        "print(tokenizer.encode(text))"
      ],
      "metadata": {
        "colab": {
          "base_uri": "https://localhost:8080/"
        },
        "id": "HTmcWSWG0jkX",
        "outputId": "49853e4e-7e28-4cdf-c44d-a43c3e1e46df"
      },
      "execution_count": 21,
      "outputs": [
        {
          "output_type": "stream",
          "name": "stdout",
          "text": [
            "[1131, 5, 355, 1126, 628, 975, 10, 1130, 55, 988, 956, 984, 722, 988, 1131, 7]\n"
          ]
        }
      ]
    },
    {
      "cell_type": "code",
      "source": [
        "tokenizer.decode(tokenizer.encode(text))"
      ],
      "metadata": {
        "colab": {
          "base_uri": "https://localhost:8080/",
          "height": 35
        },
        "id": "6QlY2Ek-1eCb",
        "outputId": "68a66507-b721-4147-fc35-393f1621175c"
      },
      "execution_count": 22,
      "outputs": [
        {
          "output_type": "execute_result",
          "data": {
            "text/plain": [
              "'<|unk|>, do you like tea? <|endoftext|> In the sunlit terraces of the <|unk|>.'"
            ],
            "application/vnd.google.colaboratory.intrinsic+json": {
              "type": "string"
            }
          },
          "metadata": {},
          "execution_count": 22
        }
      ]
    },
    {
      "cell_type": "markdown",
      "source": [
        "#Byte Pair Encoding (BPE tokenizer)\n",
        "\n",
        "It is a sub-word tokenization algorithm invented in 1994 for data compression.\n",
        "\"Most common pair of consecutive bytes of data is replaced with a byte that does ot occur in data\"\n",
        "\n",
        "Application in LLM\n",
        "\"BPE ensure that most comman words in the vocabulary are represented as a single token, while rare words are broken down into two or more subword tokens\"\n",
        "\n",
        "stopping criteria: token count or number of\n",
        "iterations"
      ],
      "metadata": {
        "id": "mgTs8ml7H29u"
      }
    },
    {
      "cell_type": "code",
      "source": [
        "!pip install tiktoken"
      ],
      "metadata": {
        "colab": {
          "base_uri": "https://localhost:8080/"
        },
        "id": "NvtFSVtp1waq",
        "outputId": "7f8605b6-09ae-40c8-a457-ce8f69dd62c7"
      },
      "execution_count": 23,
      "outputs": [
        {
          "output_type": "stream",
          "name": "stdout",
          "text": [
            "Requirement already satisfied: tiktoken in /usr/local/lib/python3.11/dist-packages (0.9.0)\n",
            "Requirement already satisfied: regex>=2022.1.18 in /usr/local/lib/python3.11/dist-packages (from tiktoken) (2024.11.6)\n",
            "Requirement already satisfied: requests>=2.26.0 in /usr/local/lib/python3.11/dist-packages (from tiktoken) (2.32.3)\n",
            "Requirement already satisfied: charset-normalizer<4,>=2 in /usr/local/lib/python3.11/dist-packages (from requests>=2.26.0->tiktoken) (3.4.2)\n",
            "Requirement already satisfied: idna<4,>=2.5 in /usr/local/lib/python3.11/dist-packages (from requests>=2.26.0->tiktoken) (3.10)\n",
            "Requirement already satisfied: urllib3<3,>=1.21.1 in /usr/local/lib/python3.11/dist-packages (from requests>=2.26.0->tiktoken) (2.4.0)\n",
            "Requirement already satisfied: certifi>=2017.4.17 in /usr/local/lib/python3.11/dist-packages (from requests>=2.26.0->tiktoken) (2025.4.26)\n"
          ]
        }
      ]
    },
    {
      "cell_type": "code",
      "source": [
        "import importlib\n",
        "import tiktoken\n",
        "importlib.metadata.version('tiktoken')"
      ],
      "metadata": {
        "id": "F_BlQSO4QFuV",
        "outputId": "d42e43c8-4591-4545-f2cb-1ed06355d999",
        "colab": {
          "base_uri": "https://localhost:8080/",
          "height": 35
        }
      },
      "execution_count": 24,
      "outputs": [
        {
          "output_type": "execute_result",
          "data": {
            "text/plain": [
              "'0.9.0'"
            ],
            "application/vnd.google.colaboratory.intrinsic+json": {
              "type": "string"
            }
          },
          "metadata": {},
          "execution_count": 24
        }
      ]
    },
    {
      "cell_type": "code",
      "source": [
        "  tokenizer = tiktoken.get_encoding(\"gpt2\")"
      ],
      "metadata": {
        "id": "peKtYviEQO7j"
      },
      "execution_count": 25,
      "outputs": []
    },
    {
      "cell_type": "code",
      "source": [
        "text = (\"Hello, do you like tea? <|endoftext|> In the sunlit terraces\" \"of someunknownPlace\"\n",
        ")\n",
        "\n",
        "integers = tokenizer.encode(text,allowed_special={\"<|endoftext|>\"})\n",
        "print(integers)"
      ],
      "metadata": {
        "id": "KIHAMhbKQfx_",
        "outputId": "ac152d52-ae5e-42e2-fc64-9e7afae79910",
        "colab": {
          "base_uri": "https://localhost:8080/"
        }
      },
      "execution_count": 26,
      "outputs": [
        {
          "output_type": "stream",
          "name": "stdout",
          "text": [
            "[15496, 11, 466, 345, 588, 8887, 30, 220, 50256, 554, 262, 4252, 18250, 8812, 2114, 1659, 617, 34680, 27271]\n"
          ]
        }
      ]
    },
    {
      "cell_type": "code",
      "source": [
        "tokenizer.decode(integers)"
      ],
      "metadata": {
        "id": "uP_Oid7ZWFRo",
        "outputId": "2658bdc6-9966-4539-bfca-e8849738b26a",
        "colab": {
          "base_uri": "https://localhost:8080/",
          "height": 35
        }
      },
      "execution_count": 27,
      "outputs": [
        {
          "output_type": "execute_result",
          "data": {
            "text/plain": [
              "'Hello, do you like tea? <|endoftext|> In the sunlit terracesof someunknownPlace'"
            ],
            "application/vnd.google.colaboratory.intrinsic+json": {
              "type": "string"
            }
          },
          "metadata": {},
          "execution_count": 27
        }
      ]
    },
    {
      "cell_type": "code",
      "source": [
        " integers = tokenizer.encode(\"Akwirw ier\")\n",
        " print(integers)\n",
        " strings = tokenizer.decode(integers)\n",
        "print(strings)"
      ],
      "metadata": {
        "id": "FyQMcW1gWRJu",
        "colab": {
          "base_uri": "https://localhost:8080/"
        },
        "outputId": "6100e8c3-528b-4aad-b080-5938e14ea34e"
      },
      "execution_count": 28,
      "outputs": [
        {
          "output_type": "stream",
          "name": "stdout",
          "text": [
            "[33901, 86, 343, 86, 220, 959]\n",
            "Akwirw ier\n"
          ]
        }
      ]
    },
    {
      "cell_type": "markdown",
      "source": [
        "Create Input-Target pair using sliding window approach\n",
        "(1) Implement data loader\n",
        "(2) Fetche the input-output pairs"
      ],
      "metadata": {
        "id": "x7W3rZ-nyFQf"
      }
    },
    {
      "cell_type": "code",
      "source": [
        "with open(\"/content/the-verdict.txt\", \"r\", encoding = 'utf-8') as f:\n",
        "\n",
        "  raw_text = f.read()\n",
        "enc_text = tokenizer.encode(raw_text)\n",
        "print(len(enc_text)) #total number of tokes after applying BPE tokenizer"
      ],
      "metadata": {
        "colab": {
          "base_uri": "https://localhost:8080/"
        },
        "id": "E9h0Yv3Oxv2r",
        "outputId": "3817ec14-b6d1-4138-ad54-100cf30da8aa"
      },
      "execution_count": 29,
      "outputs": [
        {
          "output_type": "stream",
          "name": "stdout",
          "text": [
            "5145\n"
          ]
        }
      ]
    },
    {
      "cell_type": "code",
      "source": [
        "enc_sample = enc_text[50:] #remove first 50 tokens from the database"
      ],
      "metadata": {
        "id": "BXLbQoFsx1EG"
      },
      "execution_count": 30,
      "outputs": []
    },
    {
      "cell_type": "code",
      "source": [
        " # to create input & output pairs define tow variable  x input tokens and y contains the targets\n",
        "\n",
        " context_size =4 #length of the input\n",
        " #The context size of 4 means that the model is trained to look at a sequence of 4 words\n",
        " # to predict the next word\n",
        " #The input is the first 4 tokens [1,2,3,4] and the target y in the next 4 tokens [2,3,4,5]\n",
        "\n",
        " x=enc_sample[:context_size]\n",
        " y=enc_sample[1:context_size+1]\n",
        "\n",
        " print(f\"X: {x}\")\n",
        " print(f\"Y:       {y}\")\n",
        "\n",
        "#No of prediction task = context size\n"
      ],
      "metadata": {
        "colab": {
          "base_uri": "https://localhost:8080/"
        },
        "id": "AmjM-T4pAD8X",
        "outputId": "01805748-0cf8-4f76-dba6-ed63f1e1501d"
      },
      "execution_count": 31,
      "outputs": [
        {
          "output_type": "stream",
          "name": "stdout",
          "text": [
            "X: [290, 4920, 2241, 287]\n",
            "Y:       [4920, 2241, 287, 257]\n"
          ]
        }
      ]
    },
    {
      "cell_type": "code",
      "source": [
        "for i in range(1, context_size+1):\n",
        "  context = enc_sample[:i]\n",
        "  desired = enc_sample[i]\n",
        "  print(context, \"----->\",desired)"
      ],
      "metadata": {
        "colab": {
          "base_uri": "https://localhost:8080/"
        },
        "id": "w8PG5g3zBQbY",
        "outputId": "327c5453-2b73-4bcc-bcc3-61fcf4659e6a"
      },
      "execution_count": 32,
      "outputs": [
        {
          "output_type": "stream",
          "name": "stdout",
          "text": [
            "[290] -----> 4920\n",
            "[290, 4920] -----> 2241\n",
            "[290, 4920, 2241] -----> 287\n",
            "[290, 4920, 2241, 287] -----> 257\n"
          ]
        }
      ]
    },
    {
      "cell_type": "code",
      "source": [
        "for i in range(1, context_size+1):\n",
        "  context = enc_sample[:i]\n",
        "  desired = enc_sample[i]\n",
        "\n",
        "  print(tokenizer.decode(context), \"------>\", tokenizer.decode([desired]))"
      ],
      "metadata": {
        "colab": {
          "base_uri": "https://localhost:8080/"
        },
        "id": "sJckOS6iCiqs",
        "outputId": "703d4200-946f-41c3-d38a-2bce671056ee"
      },
      "execution_count": 33,
      "outputs": [
        {
          "output_type": "stream",
          "name": "stdout",
          "text": [
            " and ------>  established\n",
            " and established ------>  himself\n",
            " and established himself ------>  in\n",
            " and established himself in ------>  a\n"
          ]
        }
      ]
    },
    {
      "cell_type": "markdown",
      "source": [
        "#implement dataloders\n",
        "To convert input and output vectors into tensers becasue we will be doing LLM training using pytorch and it need tensors.\n",
        "\n",
        "Datasets and Dataloaders are the python libraies which help in handdeling the data better.\n",
        "![image.png](data:image/png;base64,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)"
      ],
      "metadata": {
        "id": "sw3iyIB4UgeI"
      }
    },
    {
      "cell_type": "code",
      "source": [
        " #the dataloader class consist of four variables\n",
        " # text : input traing text\n",
        " # tokenizer: BEP tokenizer\n",
        " # Max length: lenth of input chunck\n",
        " # stride: how much windo should slide to select next input-output chunck\n",
        "\n",
        "from torch.utils.data import Dataset, DataLoader\n",
        "\n",
        "class GPTDatasetV1(Dataset):\n",
        "  def __init__(self, text, tokenizer, max_length, stride):\n",
        "    self.input_ids=[]\n",
        "    self.output_ids=[]\n",
        "\n",
        "    token_ids = tokenizer.encode(text,allowed_special={\"<|endoftext|>\"})\n",
        "\n",
        "    for i in range(0,len(token_ids)-max_length, stride):\n",
        "      input_chunks = token_ids[i:i+max_length]\n",
        "      target_chunks = token_ids[i+1:i+max_length+1]\n",
        "\n",
        "      self.input_ids.append(torch.tensor(input_chunks))\n",
        "      self.output_ids.append(torch.tensor(target_chunks))\n",
        "  def __len__(self):\n",
        "    return len(self.input_ids)\n",
        "\n",
        "  def __getitem__(self,idx):   #getitem is the class which is used by the dataloader\n",
        "    return self.input_ids[idx], self.output_ids[idx]\n"
      ],
      "metadata": {
        "id": "hKkdiTWXDH28"
      },
      "execution_count": 34,
      "outputs": []
    },
    {
      "cell_type": "code",
      "source": [],
      "metadata": {
        "id": "jJZZTYbmdqKg"
      },
      "execution_count": 34,
      "outputs": []
    },
    {
      "cell_type": "code",
      "source": [
        "def create_dataloader_v1(txt, batch_size=4, max_length=256, stride=128, shuffle=True,\n",
        "                         drop_last=True, num_workers=0):\n",
        "  tokenizer = tiktoken.get_encoding(\"gpt2\")\n",
        "\n",
        "  dataset = GPTDatasetV1(text, tokenizer, max_length, stride)\n",
        "  dataloader = DataLoader(\n",
        "      dataset,\n",
        "      batch_size=batch_size,\n",
        "      shuffle=shuffle,\n",
        "      drop_last=drop_last,\n",
        "      num_workers=num_workers\n",
        "  )\n",
        "\n",
        "  return dataloader"
      ],
      "metadata": {
        "id": "Xk6yzBdde6DK"
      },
      "execution_count": 35,
      "outputs": []
    },
    {
      "cell_type": "code",
      "source": [
        "with open(\"/content/the-verdict.txt\", \"r\", encoding=\"utf-8\") as f:\n",
        "  text = f.read()\n"
      ],
      "metadata": {
        "id": "PU23-N2hf_8l"
      },
      "execution_count": 36,
      "outputs": []
    },
    {
      "cell_type": "code",
      "source": [
        "import torch\n",
        "\n",
        "print(\"Pythorch version:\", torch.__version__)\n",
        "dataloader = create_dataloader_v1(raw_text, batch_size=1, max_length=4, stride=2, shuffle=False)\n",
        "data_iter = iter(dataloader)\n",
        "first_batch = next(data_iter)\n",
        "print(first_batch)\n",
        "\n",
        "seconed_batch = next(data_iter)\n",
        "print(seconed_batch)"
      ],
      "metadata": {
        "id": "sMSp8-X7gsiq",
        "outputId": "4a38109f-9665-48d2-8e4b-7d110ac767ff",
        "colab": {
          "base_uri": "https://localhost:8080/"
        }
      },
      "execution_count": 37,
      "outputs": [
        {
          "output_type": "stream",
          "name": "stdout",
          "text": [
            "Pythorch version: 2.6.0+cu124\n",
            "[tensor([[  40,  367, 2885, 1464]]), tensor([[ 367, 2885, 1464, 1807]])]\n",
            "[tensor([[2885, 1464, 1807, 3619]]), tensor([[1464, 1807, 3619,  402]])]\n"
          ]
        }
      ]
    },
    {
      "cell_type": "code",
      "source": [
        "!pip uninstall -y numpy\n",
        "!pip install numpy==1.26.4 --force-reinstall\n"
      ],
      "metadata": {
        "id": "rMG3VYgjhYi4",
        "outputId": "673d3a46-c3f5-4a4e-bd30-54e61297e0a3",
        "colab": {
          "base_uri": "https://localhost:8080/"
        }
      },
      "execution_count": 38,
      "outputs": [
        {
          "output_type": "stream",
          "name": "stdout",
          "text": [
            "Found existing installation: numpy 2.0.2\n",
            "Uninstalling numpy-2.0.2:\n",
            "  Successfully uninstalled numpy-2.0.2\n",
            "Collecting numpy==1.26.4\n",
            "  Downloading numpy-1.26.4-cp311-cp311-manylinux_2_17_x86_64.manylinux2014_x86_64.whl.metadata (61 kB)\n",
            "\u001b[2K     \u001b[90m━━━━━━━━━━━━━━━━━━━━━━━━━━━━━━━━━━━━━━━━\u001b[0m \u001b[32m61.0/61.0 kB\u001b[0m \u001b[31m3.7 MB/s\u001b[0m eta \u001b[36m0:00:00\u001b[0m\n",
            "\u001b[?25hDownloading numpy-1.26.4-cp311-cp311-manylinux_2_17_x86_64.manylinux2014_x86_64.whl (18.3 MB)\n",
            "\u001b[2K   \u001b[90m━━━━━━━━━━━━━━━━━━━━━━━━━━━━━━━━━━━━━━━━\u001b[0m \u001b[32m18.3/18.3 MB\u001b[0m \u001b[31m68.3 MB/s\u001b[0m eta \u001b[36m0:00:00\u001b[0m\n",
            "\u001b[?25hInstalling collected packages: numpy\n",
            "\u001b[31mERROR: pip's dependency resolver does not currently take into account all the packages that are installed. This behaviour is the source of the following dependency conflicts.\n",
            "thinc 8.3.6 requires numpy<3.0.0,>=2.0.0, but you have numpy 1.26.4 which is incompatible.\u001b[0m\u001b[31m\n",
            "\u001b[0mSuccessfully installed numpy-1.26.4\n"
          ]
        }
      ]
    },
    {
      "cell_type": "markdown",
      "source": [
        "#small demo of vector embedding"
      ],
      "metadata": {
        "id": "OABmxtsvoCl2"
      }
    },
    {
      "cell_type": "code",
      "source": [
        "#word2vec-google-news\n",
        "!pip install numpy scipy gensim\n",
        "\n",
        "import shutil\n",
        "import os\n",
        "import gensim.downloader as api\n",
        "\n",
        "# Path to Gensim's default data directory\n",
        "data_dir = api.BASE_DIR\n",
        "model_name = 'word2vec-google-news-300'\n",
        "\n",
        "# Full path to the model folder\n",
        "model_path = os.path.join(data_dir, model_name)\n",
        "\n",
        "# Remove it if it exists\n",
        "if os.path.exists(model_path):\n",
        "    shutil.rmtree(model_path)\n",
        "    print(f\"Removed corrupted model directory: {model_path}\")\n",
        "else:\n",
        "    print(\"No existing model to remove.\")\n",
        "\n",
        "model = api.load('word2vec-google-news-300')\n",
        "\n"
      ],
      "metadata": {
        "id": "3NaqIAffoA2Z",
        "outputId": "5d629296-7b63-4d97-937e-c8adb62198f3",
        "colab": {
          "base_uri": "https://localhost:8080/",
          "height": 383
        }
      },
      "execution_count": 39,
      "outputs": [
        {
          "output_type": "error",
          "ename": "ModuleNotFoundError",
          "evalue": "No module named 'gensim'",
          "traceback": [
            "\u001b[0;31m---------------------------------------------------------------------------\u001b[0m",
            "\u001b[0;31mModuleNotFoundError\u001b[0m                       Traceback (most recent call last)",
            "\u001b[0;32m<ipython-input-39-b9d2e8decf25>\u001b[0m in \u001b[0;36m<cell line: 0>\u001b[0;34m()\u001b[0m\n\u001b[1;32m      4\u001b[0m \u001b[0;32mimport\u001b[0m \u001b[0mshutil\u001b[0m\u001b[0;34m\u001b[0m\u001b[0;34m\u001b[0m\u001b[0m\n\u001b[1;32m      5\u001b[0m \u001b[0;32mimport\u001b[0m \u001b[0mos\u001b[0m\u001b[0;34m\u001b[0m\u001b[0;34m\u001b[0m\u001b[0m\n\u001b[0;32m----> 6\u001b[0;31m \u001b[0;32mimport\u001b[0m \u001b[0mgensim\u001b[0m\u001b[0;34m.\u001b[0m\u001b[0mdownloader\u001b[0m \u001b[0;32mas\u001b[0m \u001b[0mapi\u001b[0m\u001b[0;34m\u001b[0m\u001b[0;34m\u001b[0m\u001b[0m\n\u001b[0m\u001b[1;32m      7\u001b[0m \u001b[0;34m\u001b[0m\u001b[0m\n\u001b[1;32m      8\u001b[0m \u001b[0;31m# Path to Gensim's default data directory\u001b[0m\u001b[0;34m\u001b[0m\u001b[0;34m\u001b[0m\u001b[0m\n",
            "\u001b[0;31mModuleNotFoundError\u001b[0m: No module named 'gensim'",
            "",
            "\u001b[0;31m---------------------------------------------------------------------------\u001b[0;32m\nNOTE: If your import is failing due to a missing package, you can\nmanually install dependencies using either !pip or !apt.\n\nTo view examples of installing some common dependencies, click the\n\"Open Examples\" button below.\n\u001b[0;31m---------------------------------------------------------------------------\u001b[0m\n"
          ],
          "errorDetails": {
            "actions": [
              {
                "action": "open_url",
                "actionText": "Open Examples",
                "url": "/notebooks/snippets/importing_libraries.ipynb"
              }
            ]
          }
        }
      ]
    },
    {
      "cell_type": "code",
      "source": [
        "input_ids = torch.tensor([2,3,5,1])\n",
        "vocab_size =6\n",
        "output_dim =3\n",
        "\n",
        "torch.manual_seed(123)\n",
        "embedding_layer = torch.nn.Embedding(vocab_size, output_dim) #embeding matrix is similar to NN linear layer\n",
        "print(embedding_layer.weight)\n",
        "\n",
        "#NOTE :- we can get embedding materix using torch.nn.linear but is not much compute efficent with scaling"
      ],
      "metadata": {
        "id": "Dh_Xp0NPoo68",
        "outputId": "d23a32f7-9ab5-4e0b-d0e0-2199f3d8c3aa",
        "colab": {
          "base_uri": "https://localhost:8080/"
        }
      },
      "execution_count": 40,
      "outputs": [
        {
          "output_type": "stream",
          "name": "stdout",
          "text": [
            "Parameter containing:\n",
            "tensor([[ 0.3374, -0.1778, -0.1690],\n",
            "        [ 0.9178,  1.5810,  1.3010],\n",
            "        [ 1.2753, -0.2010, -0.1606],\n",
            "        [-0.4015,  0.9666, -1.1481],\n",
            "        [-1.1589,  0.3255, -0.6315],\n",
            "        [-2.8400, -0.7849, -1.4096]], requires_grad=True)\n"
          ]
        }
      ]
    },
    {
      "cell_type": "code",
      "source": [
        "print(embedding_layer(torch.tensor([0]))) #embedding layer is lookup operations to retrive vectors based on IDs"
      ],
      "metadata": {
        "id": "IgkmZu9bspCO",
        "outputId": "10e29c52-4c35-4c6e-a01a-6b8e57856762",
        "colab": {
          "base_uri": "https://localhost:8080/"
        }
      },
      "execution_count": 41,
      "outputs": [
        {
          "output_type": "stream",
          "name": "stdout",
          "text": [
            "tensor([[ 0.3374, -0.1778, -0.1690]], grad_fn=<EmbeddingBackward0>)\n"
          ]
        }
      ]
    },
    {
      "cell_type": "code",
      "source": [
        "print(embedding_layer(input_ids))"
      ],
      "metadata": {
        "id": "J2VZz0vItlE_",
        "outputId": "a6cfed45-e5cc-414d-b696-503ae80e4a07",
        "colab": {
          "base_uri": "https://localhost:8080/"
        }
      },
      "execution_count": 42,
      "outputs": [
        {
          "output_type": "stream",
          "name": "stdout",
          "text": [
            "tensor([[ 1.2753, -0.2010, -0.1606],\n",
            "        [-0.4015,  0.9666, -1.1481],\n",
            "        [-2.8400, -0.7849, -1.4096],\n",
            "        [ 0.9178,  1.5810,  1.3010]], grad_fn=<EmbeddingBackward0>)\n"
          ]
        }
      ]
    },
    {
      "cell_type": "code",
      "source": [
        "#positional encoding\n",
        "vocab_size = 50257\n",
        "output_dim = 256\n",
        "\n",
        "token_embedding = torch.nn.Embedding(vocab_size, output_dim)\n",
        "#position_embedding = torch.nn.Embedding(512, output_dim)"
      ],
      "metadata": {
        "id": "Ov1AFoVDuATR"
      },
      "execution_count": 43,
      "outputs": []
    },
    {
      "cell_type": "code",
      "source": [
        "max_length = 4\n",
        "\n",
        "dataloader = create_dataloader_v1(\n",
        "    raw_text, batch_size =8, max_length=max_length, stride=max_length, shuffle=False)\n",
        "data_iter = iter(dataloader)\n",
        "inputs, target =next(data_iter)"
      ],
      "metadata": {
        "id": "6UY2G8_c37Of"
      },
      "execution_count": 44,
      "outputs": []
    },
    {
      "cell_type": "code",
      "source": [
        "print(\"Token IDs:\\n\", inputs)\n",
        "print(\"Inputs shape:\", inputs.shape)"
      ],
      "metadata": {
        "id": "mPw2Mv-f5zP5",
        "outputId": "08fa020d-bb2b-4400-f973-2064fde87b7b",
        "colab": {
          "base_uri": "https://localhost:8080/"
        }
      },
      "execution_count": 45,
      "outputs": [
        {
          "output_type": "stream",
          "name": "stdout",
          "text": [
            "Token IDs:\n",
            " tensor([[   40,   367,  2885,  1464],\n",
            "        [ 1807,  3619,   402,   271],\n",
            "        [10899,  2138,   257,  7026],\n",
            "        [15632,   438,  2016,   257],\n",
            "        [  922,  5891,  1576,   438],\n",
            "        [  568,   340,   373,   645],\n",
            "        [ 1049,  5975,   284,   502],\n",
            "        [  284,  3285,   326,    11]])\n",
            "Inputs shape: torch.Size([8, 4])\n"
          ]
        }
      ]
    },
    {
      "cell_type": "code",
      "source": [
        "token_embeddings= token_embedding(inputs)\n",
        "print(token_embeddings.shape)"
      ],
      "metadata": {
        "id": "somRMpW35_kk",
        "outputId": "2fd9f05f-6877-4f0d-9858-00984313d901",
        "colab": {
          "base_uri": "https://localhost:8080/"
        }
      },
      "execution_count": 50,
      "outputs": [
        {
          "output_type": "stream",
          "name": "stdout",
          "text": [
            "torch.Size([8, 4, 256])\n"
          ]
        }
      ]
    },
    {
      "cell_type": "code",
      "source": [
        "context_length =max_length\n",
        "pos_embedding_layer = torch.nn.Embedding(context_length, output_dim)\n",
        "\n",
        "pos_embeddings = pos_embedding_layer(torch.arange(max_length))\n",
        "print(pos_embeddings.shape)"
      ],
      "metadata": {
        "id": "XqQWPq1E7njH",
        "outputId": "91dad446-03cd-46ba-8f79-a572dea72756",
        "colab": {
          "base_uri": "https://localhost:8080/"
        }
      },
      "execution_count": 53,
      "outputs": [
        {
          "output_type": "stream",
          "name": "stdout",
          "text": [
            "torch.Size([4, 256])\n"
          ]
        }
      ]
    },
    {
      "cell_type": "code",
      "source": [
        "input_embeddings = token_embeddings + pos_embeddings\n",
        "print(input_embeddings.shape)"
      ],
      "metadata": {
        "id": "eAOufDYF8jmA",
        "outputId": "d2862e85-1335-4bf6-a9de-a534117cdfcf",
        "colab": {
          "base_uri": "https://localhost:8080/"
        }
      },
      "execution_count": 54,
      "outputs": [
        {
          "output_type": "stream",
          "name": "stdout",
          "text": [
            "torch.Size([8, 4, 256])\n"
          ]
        }
      ]
    },
    {
      "cell_type": "code",
      "source": [],
      "metadata": {
        "id": "fcFNyyEg9gsP"
      },
      "execution_count": null,
      "outputs": []
    }
  ]
}